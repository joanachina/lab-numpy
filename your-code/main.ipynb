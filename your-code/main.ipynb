{
 "cells": [
  {
   "cell_type": "markdown",
   "metadata": {},
   "source": [
    "# Intrduction to NumPy\n",
    "\n",
    "\n",
    "#### 1. Import NumPy under the name np."
   ]
  },
  {
   "cell_type": "code",
   "execution_count": 1,
   "metadata": {},
   "outputs": [],
   "source": [
    "import numpy as np\n",
    "import random "
   ]
  },
  {
   "cell_type": "markdown",
   "metadata": {},
   "source": [
    "#### 2. Print your NumPy version."
   ]
  },
  {
   "cell_type": "code",
   "execution_count": 2,
   "metadata": {},
   "outputs": [
    {
     "name": "stdout",
     "output_type": "stream",
     "text": [
      "1.18.5\n"
     ]
    }
   ],
   "source": [
    "print(np.__version__)"
   ]
  },
  {
   "cell_type": "markdown",
   "metadata": {},
   "source": [
    "#### 3. Generate a 2x3x5 3-dimensional array with random values. Assign the array to variable *a*.\n",
    "**Challenge**: there are at least three easy ways that use numpy to generate random arrays. How many ways can you find?"
   ]
  },
  {
   "cell_type": "code",
   "execution_count": 14,
   "metadata": {},
   "outputs": [],
   "source": [
    "a = np.random.random((2,3,5))"
   ]
  },
  {
   "cell_type": "code",
   "execution_count": 16,
   "metadata": {},
   "outputs": [
    {
     "name": "stdout",
     "output_type": "stream",
     "text": [
      "[[[1315533  517912 4413443 8916695 1225350]\n",
      "  [ 395171 8138725 9807716 5710874 2488337]\n",
      "  [3666662  347523 6335405 1909287 6527697]]\n",
      "\n",
      " [[ 454103 9923947 7527148 2561786 1197674]\n",
      "  [4422611 9178131 4953972 1470761 6024751]\n",
      "  [4108370 9433425 1229893 1327235 4485376]]]\n"
     ]
    }
   ],
   "source": [
    "a2 = np.random.randint(0, 10000000, size=(2, 3, 5 ))\n",
    "print(a2)"
   ]
  },
  {
   "cell_type": "code",
   "execution_count": 17,
   "metadata": {},
   "outputs": [
    {
     "name": "stdout",
     "output_type": "stream",
     "text": [
      "[[[-1.07161177 -0.36338942 -0.35170235 -1.46561506  0.55998989]\n",
      "  [ 0.36492113  0.64319064  3.34574281  1.67227563 -0.24853622]\n",
      "  [ 0.31855337  2.0363768   0.28969068 -1.68979476 -0.40737137]]\n",
      "\n",
      " [[-0.5600795  -1.06273993  0.878362    0.12315162 -0.06940426]\n",
      "  [ 1.2516356  -0.64388582  1.0207738   0.34523877  0.36700414]\n",
      "  [-0.69355701 -0.87475979  0.12127414  0.02922781  0.87984188]]]\n"
     ]
    }
   ],
   "source": [
    "a3 = np.random.randn(2, 3, 5)\n",
    "print(a3)"
   ]
  },
  {
   "cell_type": "markdown",
   "metadata": {},
   "source": [
    "#### 4. Print *a*.\n"
   ]
  },
  {
   "cell_type": "code",
   "execution_count": 18,
   "metadata": {},
   "outputs": [
    {
     "name": "stdout",
     "output_type": "stream",
     "text": [
      "[[[0.16820443 0.41482926 0.57329206 0.77088819 0.36971962]\n",
      "  [0.02475115 0.52860231 0.49832197 0.11046244 0.07346543]\n",
      "  [0.08619275 0.83681752 0.87124502 0.49701974 0.83330134]]\n",
      "\n",
      " [[0.74187621 0.45101876 0.3963555  0.28556621 0.8321747 ]\n",
      "  [0.24814403 0.70474719 0.87363921 0.54178231 0.05128945]\n",
      "  [0.74056736 0.87374011 0.33716249 0.29798745 0.76845938]]]\n"
     ]
    }
   ],
   "source": [
    "print(a)"
   ]
  },
  {
   "cell_type": "markdown",
   "metadata": {},
   "source": [
    "#### 5. Create a 5x2x3 3-dimensional array with all values equaling 1. Assign the array to variable *b*."
   ]
  },
  {
   "cell_type": "code",
   "execution_count": 19,
   "metadata": {},
   "outputs": [],
   "source": [
    "b =np.ones((5,2,3),dtype = int)"
   ]
  },
  {
   "cell_type": "markdown",
   "metadata": {},
   "source": [
    "#### 6. Print *b*.\n"
   ]
  },
  {
   "cell_type": "code",
   "execution_count": 20,
   "metadata": {},
   "outputs": [
    {
     "name": "stdout",
     "output_type": "stream",
     "text": [
      "[[[1 1 1]\n",
      "  [1 1 1]]\n",
      "\n",
      " [[1 1 1]\n",
      "  [1 1 1]]\n",
      "\n",
      " [[1 1 1]\n",
      "  [1 1 1]]\n",
      "\n",
      " [[1 1 1]\n",
      "  [1 1 1]]\n",
      "\n",
      " [[1 1 1]\n",
      "  [1 1 1]]]\n"
     ]
    }
   ],
   "source": [
    "print(b)"
   ]
  },
  {
   "cell_type": "markdown",
   "metadata": {},
   "source": [
    "#### 7. Do *a* and *b* have the same size? How do you prove that in Python code?"
   ]
  },
  {
   "cell_type": "code",
   "execution_count": 21,
   "metadata": {},
   "outputs": [
    {
     "data": {
      "text/plain": [
       "False"
      ]
     },
     "execution_count": 21,
     "metadata": {},
     "output_type": "execute_result"
    }
   ],
   "source": [
    "#len(a) == len(b)\n",
    "a.shape == b.shape\n"
   ]
  },
  {
   "cell_type": "markdown",
   "metadata": {},
   "source": [
    "#### 8. Are you able to add *a* and *b*? Why or why not?\n"
   ]
  },
  {
   "cell_type": "code",
   "execution_count": 22,
   "metadata": {},
   "outputs": [
    {
     "ename": "ValueError",
     "evalue": "operands could not be broadcast together with shapes (2,3,5) (5,2,3) ",
     "output_type": "error",
     "traceback": [
      "\u001b[1;31m---------------------------------------------------------------------------\u001b[0m",
      "\u001b[1;31mValueError\u001b[0m                                Traceback (most recent call last)",
      "\u001b[1;32m<ipython-input-22-d5b1933c2b51>\u001b[0m in \u001b[0;36m<module>\u001b[1;34m\u001b[0m\n\u001b[1;32m----> 1\u001b[1;33m \u001b[0ma_and_b\u001b[0m \u001b[1;33m=\u001b[0m \u001b[0mnp\u001b[0m\u001b[1;33m.\u001b[0m\u001b[0madd\u001b[0m\u001b[1;33m(\u001b[0m\u001b[0ma\u001b[0m\u001b[1;33m,\u001b[0m \u001b[0mb\u001b[0m\u001b[1;33m)\u001b[0m\u001b[1;33m\u001b[0m\u001b[1;33m\u001b[0m\u001b[0m\n\u001b[0m\u001b[0;32m      2\u001b[0m \u001b[1;33m\u001b[0m\u001b[0m\n\u001b[0;32m      3\u001b[0m \u001b[1;31m#Because shape of two arrays are not same, that is a.shape != b.shape\u001b[0m\u001b[1;33m\u001b[0m\u001b[1;33m\u001b[0m\u001b[1;33m\u001b[0m\u001b[0m\n",
      "\u001b[1;31mValueError\u001b[0m: operands could not be broadcast together with shapes (2,3,5) (5,2,3) "
     ]
    }
   ],
   "source": [
    "a_and_b = np.add(a, b)\n",
    "\n",
    "#Because shape of two arrays are not same, that is a.shape != b.shape"
   ]
  },
  {
   "cell_type": "markdown",
   "metadata": {},
   "source": [
    "#### 9. Transpose *b* so that it has the same structure of *a* (i.e. become a 2x3x5 array). Assign the transposed array to variable *c*."
   ]
  },
  {
   "cell_type": "code",
   "execution_count": 23,
   "metadata": {},
   "outputs": [
    {
     "data": {
      "text/plain": [
       "(2, 3, 5)"
      ]
     },
     "execution_count": 23,
     "metadata": {},
     "output_type": "execute_result"
    }
   ],
   "source": [
    "#a= np.random.rand(2,3,5)\n",
    "#b =np.ones((5,2,3),dtype = int)\n",
    "\n",
    "#c = b.transpose(2,3,5) - deu erro, decidi usar reshape\n",
    "\n",
    "c = b.reshape(2,3,5)\n",
    "\n",
    "c.shape\n",
    "\n"
   ]
  },
  {
   "cell_type": "markdown",
   "metadata": {},
   "source": [
    "#### 10. Try to add *a* and *c*. Now it should work. Assign the sum to variable *d*. But why does it work now?"
   ]
  },
  {
   "cell_type": "code",
   "execution_count": 25,
   "metadata": {},
   "outputs": [
    {
     "name": "stdout",
     "output_type": "stream",
     "text": [
      "[[[1.16820443 1.41482926 1.57329206 1.77088819 1.36971962]\n",
      "  [1.02475115 1.52860231 1.49832197 1.11046244 1.07346543]\n",
      "  [1.08619275 1.83681752 1.87124502 1.49701974 1.83330134]]\n",
      "\n",
      " [[1.74187621 1.45101876 1.3963555  1.28556621 1.8321747 ]\n",
      "  [1.24814403 1.70474719 1.87363921 1.54178231 1.05128945]\n",
      "  [1.74056736 1.87374011 1.33716249 1.29798745 1.76845938]]]\n"
     ]
    }
   ],
   "source": [
    "d = np.add(a, c)\n",
    "print(d)\n"
   ]
  },
  {
   "cell_type": "markdown",
   "metadata": {},
   "source": [
    "#### 11. Print *a* and *d*. Notice the difference and relation of the two array in terms of the values? Explain."
   ]
  },
  {
   "cell_type": "code",
   "execution_count": 26,
   "metadata": {},
   "outputs": [
    {
     "name": "stdout",
     "output_type": "stream",
     "text": [
      "[[[1.16820443 1.41482926 1.57329206 1.77088819 1.36971962]\n",
      "  [1.02475115 1.52860231 1.49832197 1.11046244 1.07346543]\n",
      "  [1.08619275 1.83681752 1.87124502 1.49701974 1.83330134]]\n",
      "\n",
      " [[1.74187621 1.45101876 1.3963555  1.28556621 1.8321747 ]\n",
      "  [1.24814403 1.70474719 1.87363921 1.54178231 1.05128945]\n",
      "  [1.74056736 1.87374011 1.33716249 1.29798745 1.76845938]]]\n",
      "[[[0.16820443 0.41482926 0.57329206 0.77088819 0.36971962]\n",
      "  [0.02475115 0.52860231 0.49832197 0.11046244 0.07346543]\n",
      "  [0.08619275 0.83681752 0.87124502 0.49701974 0.83330134]]\n",
      "\n",
      " [[0.74187621 0.45101876 0.3963555  0.28556621 0.8321747 ]\n",
      "  [0.24814403 0.70474719 0.87363921 0.54178231 0.05128945]\n",
      "  [0.74056736 0.87374011 0.33716249 0.29798745 0.76845938]]]\n"
     ]
    }
   ],
   "source": [
    "print(d)\n",
    "print(a)\n",
    "\n",
    "#The values of array c were added to each value of the array a "
   ]
  },
  {
   "cell_type": "markdown",
   "metadata": {},
   "source": [
    "#### 12. Multiply *a* and *c*. Assign the result to *e*."
   ]
  },
  {
   "cell_type": "code",
   "execution_count": 27,
   "metadata": {},
   "outputs": [
    {
     "name": "stdout",
     "output_type": "stream",
     "text": [
      "[[[0.16820443 0.41482926 0.57329206 0.77088819 0.36971962]\n",
      "  [0.02475115 0.52860231 0.49832197 0.11046244 0.07346543]\n",
      "  [0.08619275 0.83681752 0.87124502 0.49701974 0.83330134]]\n",
      "\n",
      " [[0.74187621 0.45101876 0.3963555  0.28556621 0.8321747 ]\n",
      "  [0.24814403 0.70474719 0.87363921 0.54178231 0.05128945]\n",
      "  [0.74056736 0.87374011 0.33716249 0.29798745 0.76845938]]]\n"
     ]
    }
   ],
   "source": [
    "e = np.multiply(a, c)  \n",
    "e.shape\n",
    "print(e)\n"
   ]
  },
  {
   "cell_type": "markdown",
   "metadata": {},
   "source": [
    "#### 13. Does *e* equal to *a*? Why or why not?\n"
   ]
  },
  {
   "cell_type": "code",
   "execution_count": 28,
   "metadata": {},
   "outputs": [
    {
     "data": {
      "text/plain": [
       "array([[[ True,  True,  True,  True,  True],\n",
       "        [ True,  True,  True,  True,  True],\n",
       "        [ True,  True,  True,  True,  True]],\n",
       "\n",
       "       [[ True,  True,  True,  True,  True],\n",
       "        [ True,  True,  True,  True,  True],\n",
       "        [ True,  True,  True,  True,  True]]])"
      ]
     },
     "execution_count": 28,
     "metadata": {},
     "output_type": "execute_result"
    }
   ],
   "source": [
    "e == a\n",
    "\n",
    "#In question 12, I multiplied the values of array a by the values of array c (array of number ones)"
   ]
  },
  {
   "cell_type": "markdown",
   "metadata": {},
   "source": [
    "#### 14. Identify the max, min, and mean values in *d*. Assign those values to variables *d_max*, *d_min* and *d_mean*."
   ]
  },
  {
   "cell_type": "code",
   "execution_count": 29,
   "metadata": {},
   "outputs": [],
   "source": [
    "d_max= d.max()\n",
    "d_min= d.min()\n",
    "d_mean= d.mean()\n"
   ]
  },
  {
   "cell_type": "markdown",
   "metadata": {},
   "source": [
    "#### 15. Now we want to label the values in *d*. First create an empty array *f* with the same shape (i.e. 2x3x5) as *d* using `np.empty`.\n"
   ]
  },
  {
   "cell_type": "code",
   "execution_count": 30,
   "metadata": {},
   "outputs": [
    {
     "name": "stdout",
     "output_type": "stream",
     "text": [
      "[[[0.16820443 0.41482926 0.57329206 0.77088819 0.36971962]\n",
      "  [0.02475115 0.52860231 0.49832197 0.11046244 0.07346543]\n",
      "  [0.08619275 0.83681752 0.87124502 0.49701974 0.83330134]]\n",
      "\n",
      " [[0.74187621 0.45101876 0.3963555  0.28556621 0.8321747 ]\n",
      "  [0.24814403 0.70474719 0.87363921 0.54178231 0.05128945]\n",
      "  [0.74056736 0.87374011 0.33716249 0.29798745 0.76845938]]]\n"
     ]
    }
   ],
   "source": [
    "#First create an empty array f with the same shape (i.e. 2x3x5) as d using np.empty\n",
    "\n",
    "f = np.empty([2, 3, 5])\n",
    "print(f)\n",
    "\n",
    "#It returned an empty 3D Numpy Array with 2 matrices of 3 rows and 3 columns.\n",
    "#but all values in this 3D numpy array were not initialized."
   ]
  },
  {
   "cell_type": "markdown",
   "metadata": {},
   "source": [
    "#### 16. Populate the values in *f*. \n",
    "\n",
    "For each value in *d*, if it's larger than *d_min* but smaller than *d_mean*, assign 25 to the corresponding value in *f*. If a value in *d* is larger than *d_mean* but smaller than *d_max*, assign 75 to the corresponding value in *f*. If a value equals to *d_mean*, assign 50 to the corresponding value in *f*. Assign 0 to the corresponding value(s) in *f* for *d_min* in *d*. Assign 100 to the corresponding value(s) in *f* for *d_max* in *d*. In the end, f should have only the following values: 0, 25, 50, 75, and 100.\n",
    "\n",
    "**Note**: you don't have to use Numpy in this question."
   ]
  },
  {
   "cell_type": "code",
   "execution_count": 40,
   "metadata": {},
   "outputs": [],
   "source": [
    "#For each value in d, if it's larger than d_min but smaller than d_mean, assign 25 to the corresponding value in f\n",
    "\n",
    "#If a value in d is larger than d_mean but smaller than d_max, assign 75 to the corresponding value in f\n",
    "\n",
    "#If a value equals to d_mean, assign 50 to the corresponding value in f\n",
    "\n",
    "#Assign 0 to the corresponding value(s) in f for d_min in d.\n",
    "#Assign 100 to the corresponding value(s) in f for d_max in d. \n",
    "\n",
    "\n",
    "#for lst_lst in d:\n",
    "#    for lst in lst_lst:\n",
    "#        for i in lst:\n",
    "#            if d_min <i< d_mean:\n",
    "#                f.append(25)\n",
    "                #assing 25 to the corresponding value in f\n",
    "#            elif d_mean <i<d_max:\n",
    "#                f.append(75)\n",
    "                #assign 75 to the corresponding value in f\n",
    "#           elif i == d_mean:\n",
    "#                f.append(50)\n",
    "                #assign 50 to the corresponding value in f\n",
    "#            elif i == d_min:\n",
    "#                f.append(0)\n",
    "                #Assign 0 to the corresponding value(s) in f for d_min in d.\n",
    "#            elif i == d_max:\n",
    "#                f.append(100)\n",
    "                #Assign 100 to the corresponding value(s) in f for d_max in d    \n",
    "        \n",
    "\n",
    "\n",
    "        \n",
    "#In the end, f should have only the following values: 0, 25, 50, 75, and 100.\n",
    "        \n",
    "f = [[[25 if d_min<item<d_mean else 75 if d_mean<item<d_max else 0 if item == d_min else 100 for item in lst] for lst in lst_lst] for lst_lst in d]\n",
    "        \n",
    "   \n",
    "        \n"
   ]
  },
  {
   "cell_type": "markdown",
   "metadata": {},
   "source": [
    "#### 17. Print *d* and *f*. Do you have your expected *f*?\n",
    "For instance, if your *d* is:\n",
    "```python\n",
    "[[[1.85836099, 1.67064465, 1.62576044, 1.40243961, 1.88454931],\n",
    "[1.75354326, 1.69403643, 1.36729252, 1.61415071, 1.12104981],\n",
    "[1.72201435, 1.1862918 , 1.87078449, 1.7726778 , 1.88180042]],\n",
    "[[1.44747908, 1.31673383, 1.02000951, 1.52218947, 1.97066381],\n",
    "[1.79129243, 1.74983003, 1.96028037, 1.85166831, 1.65450881],\n",
    "[1.18068344, 1.9587381 , 1.00656599, 1.93402165, 1.73514584]]]\n",
    "```\n",
    "Your *f* should be:\n",
    "```python\n",
    "[[[ 75.,  75.,  75.,  25.,  75.],\n",
    "[ 75.,  75.,  25.,  25.,  25.],\n",
    "[ 75.,  25.,  75.,  75.,  75.]],\n",
    "[[ 25.,  25.,  25.,  25., 100.],\n",
    "[ 75.,  75.,  75.,  75.,  75.],\n",
    "[ 25.,  75.,   0.,  75.,  75.]]]\n",
    "```"
   ]
  },
  {
   "cell_type": "code",
   "execution_count": 41,
   "metadata": {},
   "outputs": [
    {
     "name": "stdout",
     "output_type": "stream",
     "text": [
      "[[[25, 25, 75, 75, 25], [0, 75, 75, 25, 25], [25, 75, 75, 75, 75]], [[75, 25, 25, 25, 75], [25, 75, 75, 75, 25], [75, 100, 25, 25, 75]]]\n"
     ]
    }
   ],
   "source": [
    "print(f)"
   ]
  },
  {
   "cell_type": "markdown",
   "metadata": {},
   "source": [
    "#### 18. Bonus question: instead of using numbers (i.e. 0, 25, 50, 75, and 100), use string values  (\"A\", \"B\", \"C\", \"D\", and \"E\") to label the array elements. For the example above, the expected result is:\n",
    "\n",
    "```python\n",
    "[[[ 'D',  'D',  'D',  'B',  'D'],\n",
    "[ 'D',  'D',  'B',  'B',  'B'],\n",
    "[ 'D',  'B',  'D',  'D',  'D']],\n",
    "[[ 'B',  'B',  'B',  'B',  'E'],\n",
    "[ 'D',  'D',  'D',  'D',  'D'],\n",
    "[ 'B',  'D',   'A',  'D', 'D']]]\n",
    "```\n",
    "**Note**: you don't have to use Numpy in this question."
   ]
  },
  {
   "cell_type": "code",
   "execution_count": 43,
   "metadata": {},
   "outputs": [
    {
     "name": "stdout",
     "output_type": "stream",
     "text": [
      "[[['B', 'B', 'D', 'D', 'B'], ['A', 'D', 'D', 'B', 'B'], ['B', 'D', 'D', 'D', 'D']], [['D', 'B', 'B', 'B', 'D'], ['B', 'D', 'D', 'D', 'B'], ['D', 'E', 'B', 'B', 'D']]]\n"
     ]
    }
   ],
   "source": [
    "g = [[['B' if d_min<item<d_mean else 'D' if d_mean<item<d_max else 'A' if item == d_min else 'E' for item in lst] for lst in lst_lst] for lst_lst in d]\n",
    "print(g)      "
   ]
  },
  {
   "cell_type": "code",
   "execution_count": null,
   "metadata": {},
   "outputs": [],
   "source": []
  }
 ],
 "metadata": {
  "kernelspec": {
   "display_name": "Python 3",
   "language": "python",
   "name": "python3"
  },
  "language_info": {
   "codemirror_mode": {
    "name": "ipython",
    "version": 3
   },
   "file_extension": ".py",
   "mimetype": "text/x-python",
   "name": "python",
   "nbconvert_exporter": "python",
   "pygments_lexer": "ipython3",
   "version": "3.8.3"
  }
 },
 "nbformat": 4,
 "nbformat_minor": 2
}
